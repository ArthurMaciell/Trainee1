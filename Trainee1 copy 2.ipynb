{
  "nbformat": 4,
  "nbformat_minor": 0,
  "metadata": {
    "colab": {
      "provenance": []
    },
    "kernelspec": {
      "name": "python3",
      "display_name": "Python 3"
    },
    "language_info": {
      "name": "python"
    }
  },
  "cells": [
    {
      "cell_type": "code",
      "execution_count": null,
      "metadata": {
        "id": "6huQBGHQjr29"
      },
      "outputs": [],
      "source": [
        "import pandas as pd\n",
        "import numpy as np\n",
        "import matplotlib.pyplot as plt\n",
        "import seaborn as sns\n",
        "import statistics as stat"
      ]
    },
    {
      "cell_type": "code",
      "source": [
        "dt1 = pd.read_csv('Cars 1.csv')\n",
        "dt2 = pd.read_csv('cars.csv')\n",
        "dt3 = pd.read_csv('Electric Car.csv')\n",
        "dt4 = pd.read_csv('Electric Vehicle Population Data.csv')\n",
        "dt5 = pd.read_excel('FEV data.xlsx')"
      ],
      "metadata": {
        "id": "kMF2NPh-jz9Q"
      },
      "execution_count": null,
      "outputs": []
    },
    {
      "cell_type": "markdown",
      "source": [
        "Analise exploratória"
      ],
      "metadata": {
        "id": "Qc2fgi85j6vi"
      }
    },
    {
      "cell_type": "code",
      "source": [
        "dt1.dtypes"
      ],
      "metadata": {
        "id": "E_6EYzuej3Xu"
      },
      "execution_count": null,
      "outputs": []
    },
    {
      "cell_type": "code",
      "source": [
        "agrupado_marcas = dt1.groupby(['Identification.Make']).size()\n",
        "\n",
        "agrupado_marcas = agrupado_marcas.sort_values(ascending=False)\n",
        "agrupado_marcas = agrupado_marcas.head(10)\n",
        "plt.figure(figsize=(12,9))\n",
        "plt.xlabel('Marcas')\n",
        "plt.ylabel('Número de carros')\n",
        "agrupado_marcas.plot.bar(color ='green')"
      ],
      "metadata": {
        "id": "97dPFArKkBah"
      },
      "execution_count": null,
      "outputs": []
    },
    {
      "cell_type": "code",
      "source": [
        "sns.boxplot(dt1['Fuel Information.City mpg']).set_title('Gasto de combustível na cidade')"
      ],
      "metadata": {
        "id": "3gb59s3Kl_z7"
      },
      "execution_count": null,
      "outputs": []
    },
    {
      "cell_type": "code",
      "source": [
        "sns.distplot(dt1['Fuel Information.City mpg']).set_title('Combustível cidade')"
      ],
      "metadata": {
        "id": "2xpJK-tlmI5L"
      },
      "execution_count": null,
      "outputs": []
    },
    {
      "cell_type": "code",
      "source": [
        "sns.histplot(dt1['Fuel Information.City mpg']).set_title('Combustível cidade')"
      ],
      "metadata": {
        "id": "bGgfq_cVmQv9"
      },
      "execution_count": null,
      "outputs": []
    },
    {
      "cell_type": "code",
      "source": [
        "agrupado_finf = dt1.groupby(['Fuel Information.Fuel Type']).size()\n",
        "agrupado_finf\n",
        "plt.figure(figsize=(12,9))\n",
        "plt.xlabel('Tipo de gasolina')\n",
        "plt.ylabel('Número de carros')\n",
        "agrupado_finf.plot.bar(color ='green')"
      ],
      "metadata": {
        "id": "MGkqOcqzmWO5"
      },
      "execution_count": null,
      "outputs": []
    },
    {
      "cell_type": "code",
      "source": [
        "sns.boxplot(dt1['Engine Information.Engine Statistics.Horsepower']).set_title('Cavalos')"
      ],
      "metadata": {
        "id": "7Of3eJjqmZBd"
      },
      "execution_count": null,
      "outputs": []
    },
    {
      "cell_type": "code",
      "source": [
        "plt.hist(dt1['Engine Information.Engine Statistics.Horsepower'],bins=6)\n",
        "plt.xlabel('Cavalos do carro')\n",
        "plt.ylabel('Quantidade de carros')\n",
        "plt.title('Cavalos X Qnt. de carros')"
      ],
      "metadata": {
        "id": "1ydJCkL2mbN0"
      },
      "execution_count": null,
      "outputs": []
    },
    {
      "cell_type": "code",
      "source": [
        "plt.hist(dt1['Dimensions.Height'],bins=6)\n",
        "plt.xlabel('Peso')\n",
        "plt.ylabel('Quantidade de carros')\n",
        "plt.title('Peso X Qnt. de carros')"
      ],
      "metadata": {
        "id": "wtSfT_tWmgki"
      },
      "execution_count": null,
      "outputs": []
    },
    {
      "cell_type": "code",
      "source": [
        "#Histograma com a linha de densidade\n",
        "sns.histplot(dt1['Dimensions.Height'],kde=True,bins=6,color='blue').set(title=\"Peso\")"
      ],
      "metadata": {
        "id": "J2kRLFMGmjxf"
      },
      "execution_count": null,
      "outputs": []
    },
    {
      "cell_type": "code",
      "source": [
        "#Histograma usando seaborn\n",
        "sns.histplot(dt1['Fuel Information.City mpg'],kde=False,bins=6,color='blue').set(title=\"Combustível\")"
      ],
      "metadata": {
        "id": "LtY1T8vdmu5x"
      },
      "execution_count": null,
      "outputs": []
    },
    {
      "cell_type": "code",
      "source": [
        "#Linha de densidade usando seaborn\n",
        "sns.kdeplot(dt1['Fuel Information.City mpg'],color='blue').set(title='Combustível')"
      ],
      "metadata": {
        "id": "5JzwbiG-myTj"
      },
      "execution_count": null,
      "outputs": []
    },
    {
      "cell_type": "code",
      "source": [
        "plt.scatter(x=dt1['Dimensions.Height'],y=dt1['Fuel Information.City mpg'],color= 'blue',facecolors = 'none',marker='*')\n",
        "plt.xlabel('Peso')\n",
        "plt.ylabel('Combustível na cidade')\n",
        "plt.title('Peso X Combustível')"
      ],
      "metadata": {
        "id": "KDaXcb1tm112"
      },
      "execution_count": null,
      "outputs": []
    },
    {
      "cell_type": "code",
      "source": [
        "sns.regplot(x=dt1['Dimensions.Height'],y=dt1['Fuel Information.City mpg'],data = dt1 ,x_jitter = 0.3)"
      ],
      "metadata": {
        "id": "Eo0JCSpQm4nS"
      },
      "execution_count": null,
      "outputs": []
    },
    {
      "cell_type": "code",
      "source": [
        "y = dt1['Fuel Information.City mpg']\n",
        "x = dt1['Engine Information.Engine Statistics.Horsepower']"
      ],
      "metadata": {
        "id": "TFeR2xEgm7ng"
      },
      "execution_count": null,
      "outputs": []
    },
    {
      "cell_type": "code",
      "source": [
        "unicos = list(set(dt1['Identification.Classification']))\n",
        "unicos"
      ],
      "metadata": {
        "id": "aDWCNiwDm-hA"
      },
      "execution_count": null,
      "outputs": []
    },
    {
      "cell_type": "code",
      "source": [
        "for i in range(len(unicos)):\n",
        "    indice = dt1['Identification.Classification'] == unicos[i]\n",
        "    plt.scatter(x[indice],y[indice],label =unicos[i])\n",
        "plt.legend(loc = 'lower right')\n",
        "plt.xlabel('Cavalos')\n",
        "plt.ylabel('Consumo gasolina cidade')"
      ],
      "metadata": {
        "id": "ru0seOWenBDK"
      },
      "execution_count": null,
      "outputs": []
    },
    {
      "cell_type": "code",
      "source": [
        "y2 = dt1['Engine Information.Engine Statistics.Torque']\n",
        "x2 = dt1['Engine Information.Engine Statistics.Horsepower']\n",
        "\n",
        "unicos2 = list(set(dt1['Identification.Classification']))\n",
        "unicos2\n",
        "\n",
        "for i in range(len(unicos2)):\n",
        "    indice2 = dt1['Identification.Classification'] == unicos2[i]\n",
        "    plt.scatter(x2[indice2],y2[indice2],label =unicos2[i])\n",
        "plt.legend(loc = 'lower right')\n",
        "plt.xlabel('Cavalos')\n",
        "plt.ylabel('Torque')"
      ],
      "metadata": {
        "id": "MqTugtQUnDy7"
      },
      "execution_count": null,
      "outputs": []
    },
    {
      "cell_type": "code",
      "source": [
        "#vamos comparar algumas variaveis depois vamos botar os gráficos em um só\n",
        "plt.scatter(dt1['Engine Information.Engine Statistics.Torque'], dt1['Engine Information.Engine Statistics.Horsepower'])"
      ],
      "metadata": {
        "id": "JoETENTBnJwH"
      },
      "execution_count": null,
      "outputs": []
    },
    {
      "cell_type": "code",
      "source": [
        "plt.scatter(dt1['Dimensions.Height'],dt1['Fuel Information.City mpg'])"
      ],
      "metadata": {
        "id": "kgnklZzknL0W"
      },
      "execution_count": null,
      "outputs": []
    },
    {
      "cell_type": "code",
      "source": [
        "plt.scatter(dt1['Dimensions.Height'],dt1['Engine Information.Engine Statistics.Horsepower'])"
      ],
      "metadata": {
        "id": "rv8u-2dzncHY"
      },
      "execution_count": null,
      "outputs": []
    },
    {
      "cell_type": "code",
      "source": [
        "plt.figure(i)\n",
        "plt.subplot(2,2,1)\n",
        "plt.scatter(dt1['Engine Information.Engine Statistics.Torque'], dt1['Engine Information.Engine Statistics.Horsepower'])\n",
        "plt.subplot(2,2,2)\n",
        "plt.scatter(dt1['Dimensions.Height'],dt1['Fuel Information.City mpg'])\n",
        "plt.subplot(2,2,3)\n",
        "plt.scatter(dt1['Dimensions.Height'],dt1['Engine Information.Engine Statistics.Horsepower'])\n",
        "plt.subplot(2,2,4)\n",
        "plt.hist(dt1['Identification.Classification'])"
      ],
      "metadata": {
        "id": "_Dd3jYc4nfuL"
      },
      "execution_count": null,
      "outputs": []
    },
    {
      "cell_type": "code",
      "source": [
        "plt.boxplot(dt1['Dimensions.Height'],vert=False,showfliers = False,notch = True,patch_artist=True)\n",
        "plt.title('Carros')\n",
        "plt.xlabel('Altura')"
      ],
      "metadata": {
        "id": "5MyRFMJUnijW"
      },
      "execution_count": null,
      "outputs": []
    },
    {
      "cell_type": "code",
      "source": [
        "plt.boxplot(dt1['Dimensions.Height'],vert=False)\n",
        "plt.boxplot(dt1['Fuel Information.City mpg'],vert=False)"
      ],
      "metadata": {
        "id": "JV0a9srOnk1Q"
      },
      "execution_count": null,
      "outputs": []
    },
    {
      "cell_type": "code",
      "source": [
        "agrupado_tramissao = dt1.groupby(['Engine Information.Transmission'])['Engine Information.Engine Statistics.Torque']\n",
        "agrupado_tramissao"
      ],
      "metadata": {
        "id": "bmkpky5-nvY6"
      },
      "execution_count": null,
      "outputs": []
    },
    {
      "cell_type": "code",
      "source": [
        "agrupado_tramissao.plot.bar()"
      ],
      "metadata": {
        "id": "8sbBxsaYnyXc"
      },
      "execution_count": null,
      "outputs": []
    },
    {
      "cell_type": "code",
      "source": [
        "agrupado_tramissao.plot.pie(subplots=True)"
      ],
      "metadata": {
        "id": "vh67GkImn1l-"
      },
      "execution_count": null,
      "outputs": []
    },
    {
      "cell_type": "code",
      "source": [
        "sns.boxplot(data = dt1['Dimensions.Height'],orient = 'h').set_title('Altura')"
      ],
      "metadata": {
        "id": "_kmhFsiOn4xw"
      },
      "execution_count": null,
      "outputs": []
    },
    {
      "cell_type": "code",
      "source": [
        "agrupado_1 = dt1.groupby(['Engine Information.Transmission'])['Engine Information.Engine Statistics.Horsepower'].sum()\n",
        "agrupado_1"
      ],
      "metadata": {
        "id": "vLRBhxvJn7ZM"
      },
      "execution_count": null,
      "outputs": []
    },
    {
      "cell_type": "code",
      "source": [
        "teste = dt1.loc[dt1['Engine Information.Transmission'] == '4 Speed Automatic']\n",
        "teste"
      ],
      "metadata": {
        "id": "9tM8Rv6on_YB"
      },
      "execution_count": null,
      "outputs": []
    },
    {
      "cell_type": "code",
      "source": [
        "sns.kdeplot(dt3.loc[dt3['BodyStyle']== 'Sedan'].PriceEuro).set(title='Sedan')"
      ],
      "metadata": {
        "id": "q3nt47sdoBpc"
      },
      "execution_count": null,
      "outputs": []
    },
    {
      "cell_type": "code",
      "source": [
        "sns.histplot(dt3.loc[dt3['BodyStyle']== 'Sedan'].PriceEuro,kde=True).set(title='Eletric Sedan')"
      ],
      "metadata": {
        "id": "LtnkiwDroD7F"
      },
      "execution_count": null,
      "outputs": []
    },
    {
      "cell_type": "code",
      "source": [
        "sns.histplot(dt3.loc[dt3['BodyStyle']== 'Hatchback'].PriceEuro, kde=True).set(title='Eletric Hatch')"
      ],
      "metadata": {
        "id": "HMiuhqdfoF5i"
      },
      "execution_count": null,
      "outputs": []
    },
    {
      "cell_type": "code",
      "source": [
        "sns.histplot(dt3.loc[dt3['BodyStyle']== 'SUV'].PriceEuro, kde=True).set(title='Eletric SUV')"
      ],
      "metadata": {
        "id": "MFixK4bqoIOH"
      },
      "execution_count": null,
      "outputs": []
    },
    {
      "cell_type": "code",
      "source": [
        "correlacao = ['AccelSec','TopSpeed_KmH','Range_Km','Efficiency_WhKm','Seats','PriceEuro']\n",
        "corr = dt3[correlacao].corr()\n",
        "fig = plt.figure(figsize=(12,9))\n",
        "mask = np.triu(np.ones_like(corr,dtype=bool))\n",
        "sns.heatmap(corr,vmax=.8,mask=mask,square=True,annot=True)\n",
        "plt.show()\n"
      ],
      "metadata": {
        "id": "NP88N3RwoKMU"
      },
      "execution_count": null,
      "outputs": []
    },
    {
      "cell_type": "code",
      "source": [
        "print(coluna_eficiencia)\n",
        "dt3.sort_values(by=coluna_eficiencia,ascending=False)"
      ],
      "metadata": {
        "id": "pZm0CFsmoR51"
      },
      "execution_count": null,
      "outputs": []
    },
    {
      "cell_type": "code",
      "source": [],
      "metadata": {
        "id": "UHwOR1dnoWQW"
      },
      "execution_count": null,
      "outputs": []
    }
  ]
}